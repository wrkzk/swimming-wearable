{
 "cells": [
  {
   "cell_type": "markdown",
   "id": "110c2c0f",
   "metadata": {},
   "source": [
    "## Stroke Classification using LSTM"
   ]
  }
 ],
 "metadata": {
  "language_info": {
   "name": "python"
  }
 },
 "nbformat": 4,
 "nbformat_minor": 5
}
