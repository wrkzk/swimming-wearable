{
 "cells": [
  {
   "cell_type": "markdown",
   "id": "110c2c0f",
   "metadata": {},
   "source": [
    "## Stroke Classification using LSTM"
   ]
  },
  {
   "cell_type": "markdown",
   "id": "013d94c6",
   "metadata": {},
   "source": [
    "### Load Data"
   ]
  },
  {
   "cell_type": "code",
   "execution_count": 2,
   "id": "7e27d80f",
   "metadata": {},
   "outputs": [
    {
     "data": {
      "text/html": [
       "<div>\n",
       "<style scoped>\n",
       "    .dataframe tbody tr th:only-of-type {\n",
       "        vertical-align: middle;\n",
       "    }\n",
       "\n",
       "    .dataframe tbody tr th {\n",
       "        vertical-align: top;\n",
       "    }\n",
       "\n",
       "    .dataframe thead th {\n",
       "        text-align: right;\n",
       "    }\n",
       "</style>\n",
       "<table border=\"1\" class=\"dataframe\">\n",
       "  <thead>\n",
       "    <tr style=\"text-align: right;\">\n",
       "      <th></th>\n",
       "      <th>ax</th>\n",
       "      <th>ay</th>\n",
       "      <th>az</th>\n",
       "      <th>gx</th>\n",
       "      <th>gy</th>\n",
       "      <th>gz</th>\n",
       "      <th>stroke</th>\n",
       "    </tr>\n",
       "    <tr>\n",
       "      <th>time_s</th>\n",
       "      <th></th>\n",
       "      <th></th>\n",
       "      <th></th>\n",
       "      <th></th>\n",
       "      <th></th>\n",
       "      <th></th>\n",
       "      <th></th>\n",
       "    </tr>\n",
       "  </thead>\n",
       "  <tbody>\n",
       "    <tr>\n",
       "      <th>25.026</th>\n",
       "      <td>-0.252798</td>\n",
       "      <td>1.335612</td>\n",
       "      <td>0.742084</td>\n",
       "      <td>0.056771</td>\n",
       "      <td>0.027101</td>\n",
       "      <td>-0.000475</td>\n",
       "      <td>0</td>\n",
       "    </tr>\n",
       "    <tr>\n",
       "      <th>25.045</th>\n",
       "      <td>-0.247199</td>\n",
       "      <td>1.331772</td>\n",
       "      <td>0.740943</td>\n",
       "      <td>0.048437</td>\n",
       "      <td>0.022648</td>\n",
       "      <td>-0.001704</td>\n",
       "      <td>0</td>\n",
       "    </tr>\n",
       "    <tr>\n",
       "      <th>25.065</th>\n",
       "      <td>-0.244271</td>\n",
       "      <td>1.326874</td>\n",
       "      <td>0.743652</td>\n",
       "      <td>0.039784</td>\n",
       "      <td>0.018369</td>\n",
       "      <td>-0.003671</td>\n",
       "      <td>0</td>\n",
       "    </tr>\n",
       "    <tr>\n",
       "      <th>25.084</th>\n",
       "      <td>-0.243381</td>\n",
       "      <td>1.332964</td>\n",
       "      <td>0.747503</td>\n",
       "      <td>0.039147</td>\n",
       "      <td>0.017617</td>\n",
       "      <td>-0.001827</td>\n",
       "      <td>0</td>\n",
       "    </tr>\n",
       "    <tr>\n",
       "      <th>25.104</th>\n",
       "      <td>-0.240962</td>\n",
       "      <td>1.328595</td>\n",
       "      <td>0.749072</td>\n",
       "      <td>0.042704</td>\n",
       "      <td>0.013684</td>\n",
       "      <td>-0.001643</td>\n",
       "      <td>0</td>\n",
       "    </tr>\n",
       "  </tbody>\n",
       "</table>\n",
       "</div>"
      ],
      "text/plain": [
       "              ax        ay        az        gx        gy        gz  stroke\n",
       "time_s                                                                    \n",
       "25.026 -0.252798  1.335612  0.742084  0.056771  0.027101 -0.000475       0\n",
       "25.045 -0.247199  1.331772  0.740943  0.048437  0.022648 -0.001704       0\n",
       "25.065 -0.244271  1.326874  0.743652  0.039784  0.018369 -0.003671       0\n",
       "25.084 -0.243381  1.332964  0.747503  0.039147  0.017617 -0.001827       0\n",
       "25.104 -0.240962  1.328595  0.749072  0.042704  0.013684 -0.001643       0"
      ]
     },
     "execution_count": 2,
     "metadata": {},
     "output_type": "execute_result"
    }
   ],
   "source": [
    "import pandas as pd\n",
    "\n",
    "data = pd.read_csv('../data/processed/processed_lstm_data.csv', index_col=0)\n",
    "data.head()"
   ]
  },
  {
   "cell_type": "markdown",
   "id": "087d6022",
   "metadata": {},
   "source": [
    "### Preparing the LSTM Model"
   ]
  },
  {
   "cell_type": "code",
   "execution_count": null,
   "id": "8afe8231",
   "metadata": {},
   "outputs": [],
   "source": [
    "from sklearn.preprocessing import LabelEncoder"
   ]
  }
 ],
 "metadata": {
  "kernelspec": {
   "display_name": ".venv (3.13.4)",
   "language": "python",
   "name": "python3"
  },
  "language_info": {
   "codemirror_mode": {
    "name": "ipython",
    "version": 3
   },
   "file_extension": ".py",
   "mimetype": "text/x-python",
   "name": "python",
   "nbconvert_exporter": "python",
   "pygments_lexer": "ipython3",
   "version": "3.13.4"
  }
 },
 "nbformat": 4,
 "nbformat_minor": 5
}
