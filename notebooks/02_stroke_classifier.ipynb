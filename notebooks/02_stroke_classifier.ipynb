{
 "cells": [
  {
   "cell_type": "markdown",
   "id": "110c2c0f",
   "metadata": {},
   "source": [
    "## Stroke Classification using LSTM"
   ]
  },
  {
   "cell_type": "markdown",
   "id": "013d94c6",
   "metadata": {},
   "source": [
    "### Load Data"
   ]
  },
  {
   "cell_type": "code",
   "execution_count": 23,
   "id": "7e27d80f",
   "metadata": {},
   "outputs": [],
   "source": [
    "import pandas as pd\n",
    "\n",
    "df = pd.read_csv('../data/processed/processed_lstm_data.csv', index_col=0)"
   ]
  },
  {
   "cell_type": "markdown",
   "id": "087d6022",
   "metadata": {},
   "source": [
    "### Preparing the LSTM Model"
   ]
  },
  {
   "cell_type": "code",
   "execution_count": 24,
   "id": "8afe8231",
   "metadata": {},
   "outputs": [],
   "source": [
    "import numpy as np\n",
    "from tensorflow.keras.utils import to_categorical\n",
    "from sklearn.model_selection import train_test_split\n",
    "\n",
    "# Convert stroke labels to one-hot encoding\n",
    "labels = to_categorical(df['stroke'])\n",
    "\n",
    "# Define a function to create sequences from the data\n",
    "def create_sequences(data, labels, sequence_length):\n",
    "    X, y = [], []\n",
    "\n",
    "    # Iterate through the data to create sequences of the specified length\n",
    "    for i in range(len(data) - sequence_length + 1):\n",
    "        \n",
    "        # Append a new sequence of data from position i to i + sequence_length to X\n",
    "        window = data[i:i + sequence_length]\n",
    "\n",
    "        # Append the label corresponding to the end of the sequence to y\n",
    "        label_window = labels[i:i + sequence_length]\n",
    "\n",
    "        # If all labels are the same in the window, then add it to the y\n",
    "        # This prevents mislabeling of the training data as the window includes the transition from\n",
    "        # swimming to turning\n",
    "        if np.all(label_window == label_window[0]):\n",
    "            X.append(window)\n",
    "            y.append(label_window[0])\n",
    "\n",
    "        else:\n",
    "            soft_label = np.mean(label_window, axis=0)\n",
    "            X.append(window)\n",
    "            y.append(soft_label)\n",
    "\n",
    "    return np.array(X), np.array(y)\n",
    "\n",
    "# Create sequences of data\n",
    "sequence_length = 40\n",
    "features = ['ax', 'ay', 'az', 'gx', 'gy', 'gz']\n",
    "data = df[features].values\n",
    "X, y = create_sequences(data, labels, sequence_length)\n",
    "\n",
    "# Function to shuffle two np arrays in unison\n",
    "def unison_shuffled_copies(a, b):\n",
    "    assert len(a) == len(b)\n",
    "    p = np.random.permutation(len(a))\n",
    "    return a[p], b[p]\n",
    "\n",
    "# Shuffle X and y in unison\n",
    "X, y = unison_shuffled_copies(X, y)\n",
    "\n",
    "# Create training and testing sets\n",
    "X_train, X_test, y_train, y_test = train_test_split(X, y, test_size=0.2, random_state=42)"
   ]
  },
  {
   "cell_type": "markdown",
   "id": "ab6591d3",
   "metadata": {},
   "source": [
    "### Create and Train the LSTM Model"
   ]
  },
  {
   "cell_type": "code",
   "execution_count": 25,
   "id": "8270bd21",
   "metadata": {},
   "outputs": [
    {
     "name": "stdout",
     "output_type": "stream",
     "text": [
      "Epoch 1/20\n"
     ]
    },
    {
     "name": "stderr",
     "output_type": "stream",
     "text": [
      "c:\\Users\\warren\\Documents\\PlatformIO\\Projects\\swimming_analysis\\.venv\\Lib\\site-packages\\keras\\src\\layers\\rnn\\rnn.py:199: UserWarning: Do not pass an `input_shape`/`input_dim` argument to a layer. When using Sequential models, prefer using an `Input(shape)` object as the first layer in the model instead.\n",
      "  super().__init__(**kwargs)\n"
     ]
    },
    {
     "name": "stdout",
     "output_type": "stream",
     "text": [
      "\u001b[1m473/473\u001b[0m \u001b[32m━━━━━━━━━━━━━━━━━━━━\u001b[0m\u001b[37m\u001b[0m \u001b[1m24s\u001b[0m 47ms/step - accuracy: 0.8551 - loss: 0.4333 - val_accuracy: 0.9209 - val_loss: 0.2485\n",
      "Epoch 2/20\n",
      "\u001b[1m473/473\u001b[0m \u001b[32m━━━━━━━━━━━━━━━━━━━━\u001b[0m\u001b[37m\u001b[0m \u001b[1m32s\u001b[0m 28ms/step - accuracy: 0.9383 - loss: 0.1733 - val_accuracy: 0.9530 - val_loss: 0.1271\n",
      "Epoch 3/20\n",
      "\u001b[1m473/473\u001b[0m \u001b[32m━━━━━━━━━━━━━━━━━━━━\u001b[0m\u001b[37m\u001b[0m \u001b[1m31s\u001b[0m 66ms/step - accuracy: 0.9646 - loss: 0.1002 - val_accuracy: 0.9673 - val_loss: 0.0946\n",
      "Epoch 4/20\n",
      "\u001b[1m473/473\u001b[0m \u001b[32m━━━━━━━━━━━━━━━━━━━━\u001b[0m\u001b[37m\u001b[0m \u001b[1m33s\u001b[0m 70ms/step - accuracy: 0.9767 - loss: 0.0665 - val_accuracy: 0.9911 - val_loss: 0.0403\n",
      "Epoch 5/20\n",
      "\u001b[1m473/473\u001b[0m \u001b[32m━━━━━━━━━━━━━━━━━━━━\u001b[0m\u001b[37m\u001b[0m \u001b[1m33s\u001b[0m 70ms/step - accuracy: 0.9822 - loss: 0.0558 - val_accuracy: 0.9946 - val_loss: 0.0232\n",
      "Epoch 6/20\n",
      "\u001b[1m473/473\u001b[0m \u001b[32m━━━━━━━━━━━━━━━━━━━━\u001b[0m\u001b[37m\u001b[0m \u001b[1m33s\u001b[0m 70ms/step - accuracy: 0.9918 - loss: 0.0286 - val_accuracy: 0.9964 - val_loss: 0.0195\n",
      "Epoch 7/20\n",
      "\u001b[1m473/473\u001b[0m \u001b[32m━━━━━━━━━━━━━━━━━━━━\u001b[0m\u001b[37m\u001b[0m \u001b[1m32s\u001b[0m 67ms/step - accuracy: 0.9837 - loss: 0.0543 - val_accuracy: 0.9994 - val_loss: 0.0147\n",
      "Epoch 8/20\n",
      "\u001b[1m473/473\u001b[0m \u001b[32m━━━━━━━━━━━━━━━━━━━━\u001b[0m\u001b[37m\u001b[0m \u001b[1m31s\u001b[0m 66ms/step - accuracy: 0.9903 - loss: 0.0344 - val_accuracy: 0.9982 - val_loss: 0.0136\n",
      "Epoch 9/20\n",
      "\u001b[1m473/473\u001b[0m \u001b[32m━━━━━━━━━━━━━━━━━━━━\u001b[0m\u001b[37m\u001b[0m \u001b[1m32s\u001b[0m 67ms/step - accuracy: 0.9960 - loss: 0.0168 - val_accuracy: 0.9941 - val_loss: 0.0183\n",
      "Epoch 10/20\n",
      "\u001b[1m473/473\u001b[0m \u001b[32m━━━━━━━━━━━━━━━━━━━━\u001b[0m\u001b[37m\u001b[0m \u001b[1m36s\u001b[0m 76ms/step - accuracy: 0.9947 - loss: 0.0183 - val_accuracy: 0.9768 - val_loss: 0.0699\n",
      "Epoch 11/20\n",
      "\u001b[1m473/473\u001b[0m \u001b[32m━━━━━━━━━━━━━━━━━━━━\u001b[0m\u001b[37m\u001b[0m \u001b[1m36s\u001b[0m 76ms/step - accuracy: 0.9937 - loss: 0.0256 - val_accuracy: 0.9911 - val_loss: 0.0376\n",
      "Epoch 12/20\n",
      "\u001b[1m473/473\u001b[0m \u001b[32m━━━━━━━━━━━━━━━━━━━━\u001b[0m\u001b[37m\u001b[0m \u001b[1m29s\u001b[0m 62ms/step - accuracy: 0.9922 - loss: 0.0297 - val_accuracy: 0.9863 - val_loss: 0.0405\n",
      "Epoch 13/20\n",
      "\u001b[1m473/473\u001b[0m \u001b[32m━━━━━━━━━━━━━━━━━━━━\u001b[0m\u001b[37m\u001b[0m \u001b[1m32s\u001b[0m 68ms/step - accuracy: 0.9933 - loss: 0.0237 - val_accuracy: 0.9994 - val_loss: 0.0059\n",
      "Epoch 14/20\n",
      "\u001b[1m473/473\u001b[0m \u001b[32m━━━━━━━━━━━━━━━━━━━━\u001b[0m\u001b[37m\u001b[0m \u001b[1m32s\u001b[0m 67ms/step - accuracy: 0.9962 - loss: 0.0152 - val_accuracy: 0.9982 - val_loss: 0.0074\n",
      "Epoch 15/20\n",
      "\u001b[1m473/473\u001b[0m \u001b[32m━━━━━━━━━━━━━━━━━━━━\u001b[0m\u001b[37m\u001b[0m \u001b[1m31s\u001b[0m 66ms/step - accuracy: 0.9964 - loss: 0.0154 - val_accuracy: 0.9851 - val_loss: 0.0616\n",
      "Epoch 16/20\n",
      "\u001b[1m473/473\u001b[0m \u001b[32m━━━━━━━━━━━━━━━━━━━━\u001b[0m\u001b[37m\u001b[0m \u001b[1m32s\u001b[0m 68ms/step - accuracy: 0.9937 - loss: 0.0238 - val_accuracy: 0.9970 - val_loss: 0.0136\n",
      "Epoch 17/20\n",
      "\u001b[1m473/473\u001b[0m \u001b[32m━━━━━━━━━━━━━━━━━━━━\u001b[0m\u001b[37m\u001b[0m \u001b[1m32s\u001b[0m 68ms/step - accuracy: 0.9946 - loss: 0.0223 - val_accuracy: 0.9988 - val_loss: 0.0088\n",
      "Epoch 18/20\n",
      "\u001b[1m473/473\u001b[0m \u001b[32m━━━━━━━━━━━━━━━━━━━━\u001b[0m\u001b[37m\u001b[0m \u001b[1m32s\u001b[0m 68ms/step - accuracy: 0.9993 - loss: 0.0052 - val_accuracy: 0.9994 - val_loss: 0.0045\n",
      "Epoch 19/20\n",
      "\u001b[1m473/473\u001b[0m \u001b[32m━━━━━━━━━━━━━━━━━━━━\u001b[0m\u001b[37m\u001b[0m \u001b[1m32s\u001b[0m 67ms/step - accuracy: 0.9964 - loss: 0.0139 - val_accuracy: 1.0000 - val_loss: 0.0040\n",
      "Epoch 20/20\n",
      "\u001b[1m473/473\u001b[0m \u001b[32m━━━━━━━━━━━━━━━━━━━━\u001b[0m\u001b[37m\u001b[0m \u001b[1m31s\u001b[0m 67ms/step - accuracy: 0.9979 - loss: 0.0103 - val_accuracy: 0.9982 - val_loss: 0.0096\n",
      "\u001b[1m132/132\u001b[0m \u001b[32m━━━━━━━━━━━━━━━━━━━━\u001b[0m\u001b[37m\u001b[0m \u001b[1m3s\u001b[0m 25ms/step - accuracy: 0.9969 - loss: 0.0095\n",
      "Test Loss: 0.009452198632061481\n",
      "Test Accuracy: 0.9969069957733154\n"
     ]
    }
   ],
   "source": [
    "from tensorflow.keras.models import Sequential\n",
    "from tensorflow.keras.layers import Bidirectional, LSTM, Dense\n",
    "\n",
    "model_lstm = Sequential()\n",
    "\n",
    "# Add the first LSTM layer with 40 units\n",
    "model_lstm.add(LSTM(40, return_sequences=True, input_shape=(X_train.shape[1], X_train.shape[2])))\n",
    "\n",
    "# Add a second LSTM layer with 40\n",
    "model_lstm.add(LSTM(40))\n",
    "\n",
    "# Add a fully connected layer that will output the predicted probabilities.\n",
    "# The number of units equals the number of categories, using a softmax activation function\n",
    "model_lstm.add(Dense(units=y_train.shape[1], activation='softmax'))\n",
    "model_lstm.compile(loss='categorical_crossentropy', optimizer='adam', metrics=['accuracy'])\n",
    "\n",
    "#training the model\n",
    "model_lstm.fit(X_train, y_train, epochs=20, batch_size=32, validation_split=0.1)\n",
    "\n",
    "# Evaluate the model on the test set\n",
    "test_loss, test_accuracy = model_lstm.evaluate(X_test, y_test)\n",
    "\n",
    "print(f\"Test Loss: {test_loss}\")\n",
    "print(f\"Test Accuracy: {test_accuracy}\")"
   ]
  },
  {
   "cell_type": "markdown",
   "id": "01308e1c",
   "metadata": {},
   "source": [
    "### Generate a Report"
   ]
  },
  {
   "cell_type": "code",
   "execution_count": 26,
   "id": "adac4abc",
   "metadata": {},
   "outputs": [
    {
     "name": "stdout",
     "output_type": "stream",
     "text": [
      "\u001b[1m132/132\u001b[0m \u001b[32m━━━━━━━━━━━━━━━━━━━━\u001b[0m\u001b[37m\u001b[0m \u001b[1m1s\u001b[0m 6ms/step\n",
      "              precision    recall  f1-score   support\n",
      "\n",
      "           0       0.99      1.00      1.00      1053\n",
      "           1       1.00      1.00      1.00       992\n",
      "           2       1.00      0.99      0.99      1128\n",
      "           3       1.00      1.00      1.00      1030\n",
      "\n",
      "    accuracy                           1.00      4203\n",
      "   macro avg       1.00      1.00      1.00      4203\n",
      "weighted avg       1.00      1.00      1.00      4203\n",
      "\n"
     ]
    }
   ],
   "source": [
    "from sklearn.metrics import classification_report, confusion_matrix\n",
    "import numpy as np\n",
    "\n",
    "# Generate predictions for the test set\n",
    "y_pred = model_lstm.predict(X_test)\n",
    "y_pred_classes = np.argmax(y_pred, axis=1)\n",
    "y_test_classes = np.argmax(y_test, axis=1)\n",
    "\n",
    "# Calculate precision, recall, and F1-score\n",
    "report = classification_report(y_test_classes, y_pred_classes)\n",
    "print(report)"
   ]
  },
  {
   "cell_type": "markdown",
   "id": "1d442c20",
   "metadata": {},
   "source": [
    "### Generate a Confusion Matrix"
   ]
  },
  {
   "cell_type": "code",
   "execution_count": 28,
   "id": "5a847144",
   "metadata": {},
   "outputs": [
    {
     "data": {
      "image/png": "[encoded data removed]",
      "text/plain": [
       "<Figure size 1000x800 with 2 Axes>"
      ]
     },
     "metadata": {},
     "output_type": "display_data"
    }
   ],
   "source": [
    "from sklearn.metrics import confusion_matrix\n",
    "import seaborn as sns\n",
    "import matplotlib.pyplot as plt\n",
    "\n",
    "# Calculate the confusion matrix\n",
    "conf_matrix = confusion_matrix(y_test_classes, y_pred_classes)\n",
    "\n",
    "# Plot the confusion matrix\n",
    "plt.figure(figsize=(10, 8))\n",
    "sns.heatmap(conf_matrix, annot=True, fmt='g')\n",
    "plt.title('Confusion Matrix')\n",
    "plt.ylabel('Actual Label')\n",
    "plt.xlabel('Predicted Label')\n",
    "plt.show()"
   ]
  }
 ],
 "metadata": {
  "kernelspec": {
   "display_name": ".venv (3.13.4)",
   "language": "python",
   "name": "python3"
  },
  "language_info": {
   "codemirror_mode": {
    "name": "ipython",
    "version": 3
   },
   "file_extension": ".py",
   "mimetype": "text/x-python",
   "name": "python",
   "nbconvert_exporter": "python",
   "pygments_lexer": "ipython3",
   "version": "3.13.4"
  }
 },
 "nbformat": 4,
 "nbformat_minor": 5
}
